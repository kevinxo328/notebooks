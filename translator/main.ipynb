{
 "cells": [
  {
   "cell_type": "markdown",
   "metadata": {},
   "source": [
    "## Environment Preparation"
   ]
  },
  {
   "cell_type": "code",
   "execution_count": 1,
   "metadata": {},
   "outputs": [
    {
     "name": "stdout",
     "output_type": "stream",
     "text": [
      "Note: you may need to restart the kernel to use updated packages.\n",
      "Note: you may need to restart the kernel to use updated packages.\n",
      "Note: you may need to restart the kernel to use updated packages.\n",
      "Note: you may need to restart the kernel to use updated packages.\n",
      "Note: you may need to restart the kernel to use updated packages.\n"
     ]
    }
   ],
   "source": [
    "%pip install python-dotenv > /dev/null 2>&1\n",
    "%pip install datasets > /dev/null 2>&1\n",
    "%pip install nltk > /dev/null 2>&1\n",
    "%pip install openai > /dev/null 2>&1\n",
    "%pip install tenacity > /dev/null 2>&1"
   ]
  },
  {
   "cell_type": "code",
   "execution_count": 2,
   "metadata": {},
   "outputs": [
    {
     "data": {
      "text/plain": [
       "True"
      ]
     },
     "execution_count": 2,
     "metadata": {},
     "output_type": "execute_result"
    }
   ],
   "source": [
    "from dotenv import load_dotenv\n",
    "\n",
    "# Load the .env file\n",
    "load_dotenv()"
   ]
  },
  {
   "cell_type": "markdown",
   "metadata": {},
   "source": [
    "## Define Abstract Classes\n",
    "\n",
    "Here is a section to define abstract classes for translator and evaluator."
   ]
  },
  {
   "cell_type": "code",
   "execution_count": 3,
   "metadata": {},
   "outputs": [],
   "source": [
    "from abc import ABC, abstractmethod\n",
    "from typing import Literal\n",
    "\n",
    "# Define the abstract translator class that will be implemented by the different translators\n",
    "# The translator class will have a translate method that will take a text, source language and target language and return the translated text\n",
    "class Translator(ABC):\n",
    "    @abstractmethod\n",
    "    def translate(self, text: str, source_lang:str, target_lang:str, verbose:bool) -> str:\n",
    "        pass\n",
    "\n",
    "\n",
    "# Define the abstract evaluator class that will be implemented by the different evaluators\n",
    "# The evaluator class will have a score method that will take a list of references and a list of candidates and return the score\n",
    "class Evaluator(ABC):\n",
    "    @abstractmethod\n",
    "    def score(self, references: list[str], candidate: str) -> list[int] | Literal[0]:\n",
    "        pass"
   ]
  },
  {
   "cell_type": "markdown",
   "metadata": {},
   "source": [
    "## Translator\n",
    "\n",
    "Define various of translators."
   ]
  },
  {
   "cell_type": "markdown",
   "metadata": {},
   "source": [
    "### Azure OpenAI"
   ]
  },
  {
   "cell_type": "code",
   "execution_count": null,
   "metadata": {},
   "outputs": [],
   "source": [
    "from openai import AzureOpenAI\n",
    "from tenacity import retry, stop_after_attempt, wait_exponential\n",
    "\n",
    "\n",
    "class InvalidSystemPromptError(Exception):\n",
    "    pass\n",
    "\n",
    "\n",
    "class AzureOpenAITranslator(Translator):\n",
    "    def __init__(\n",
    "        self,\n",
    "        endpoint: str,\n",
    "        subscription_key: str,\n",
    "        deployment: str,\n",
    "        api_version: str = \"2024-02-01\",\n",
    "        system_prompt: str = \"translate from <source_lang> to <target_lang>\",\n",
    "        **kwargs,\n",
    "    ):\n",
    "\n",
    "        if \"<source_lang>\" not in system_prompt or \"<target_lang>\" not in system_prompt:\n",
    "            raise InvalidSystemPromptError(\n",
    "                \"system_prompt must contain <source_lang> and <target_lang> placeholders.\"\n",
    "            )\n",
    "\n",
    "        self._translator = AzureOpenAI(\n",
    "            azure_endpoint=endpoint,\n",
    "            api_key=subscription_key,\n",
    "            api_version=api_version,\n",
    "            **kwargs,\n",
    "        )\n",
    "        self._deployment = deployment\n",
    "        self._system_prompt = system_prompt\n",
    "\n",
    "    @retry(\n",
    "        stop=stop_after_attempt(5), wait=wait_exponential(multiplier=10, min=10, max=60)\n",
    "    )\n",
    "    def translate(\n",
    "        self, text: str, source_lang: str, target_lang: str, verbose: bool = False\n",
    "    ) -> str:\n",
    "        try:\n",
    "            response = self._translator.chat.completions.create(\n",
    "                model=self._deployment,\n",
    "                messages=[\n",
    "                    {\n",
    "                        \"role\": \"system\",\n",
    "                        \"content\": self._system_prompt.replace(\n",
    "                            \"<source_lang>\", source_lang\n",
    "                        ).replace(\"<target_lang>\", target_lang),\n",
    "                    },\n",
    "                    {\"role\": \"user\", \"content\": text},\n",
    "                ],\n",
    "            )\n",
    "\n",
    "            return (\n",
    "                response.choices[0].message.content\n",
    "                if response.choices[0].message.content is not None\n",
    "                else \"\"\n",
    "            )\n",
    "        except Exception as e:\n",
    "            if verbose:\n",
    "                print(f\"Error: {e}. Input: {text}\")\n",
    "            return \"\""
   ]
  },
  {
   "cell_type": "markdown",
   "metadata": {},
   "source": [
    "## Benchmark Evaluator"
   ]
  },
  {
   "cell_type": "markdown",
   "metadata": {},
   "source": [
    "### BLEU"
   ]
  },
  {
   "cell_type": "code",
   "execution_count": 5,
   "metadata": {},
   "outputs": [],
   "source": [
    "from nltk.translate.bleu_score import sentence_bleu, SmoothingFunction\n",
    "from typing import Literal\n",
    "import re\n",
    "import string\n",
    "\n",
    "\n",
    "class BLEUSentenceEvaluator(Evaluator):\n",
    "    def __init__(\n",
    "        self,\n",
    "        smoothing_function=SmoothingFunction().method1,\n",
    "        weights: tuple[float, float, float, float] = (0.25, 0.25, 0.25, 0.25),\n",
    "    ):\n",
    "        # Smoothing function is used to avoid the warning message when the candidate is empty and the BLEU score is 0\n",
    "        # This is because the smoothing function will smooth the 0 score to a very small positive value\n",
    "        self._smoothing_function = smoothing_function\n",
    "        self._weights = weights\n",
    "        pass\n",
    "\n",
    "    def preprocess(self, text: str) -> str:\n",
    "        \"\"\"\n",
    "        Preprocess the text.\n",
    "\n",
    "        1. Remove extra spaces\n",
    "        2. Remove leading and trailing spaces\n",
    "        3. Convert the text to lowercase\n",
    "        4. Remove punctuations\n",
    "        5. Remove \\n and \\r characters\n",
    "        \"\"\"\n",
    "\n",
    "        text = re.sub(r\"\\s{2,}\", \" \", text)\n",
    "        text = text.lower()\n",
    "        text = text.replace(\"\\n\", \" \")\n",
    "        text = text.replace(\"\\r\", \" \")\n",
    "        text = text.translate(str.maketrans(\"\", \"\", string.punctuation))\n",
    "        text = text.strip()\n",
    "        \n",
    "        return text\n",
    "\n",
    "    def score(self, references: list[str], candidate: str) -> list[int] | Literal[0]:\n",
    "        references = [self.preprocess(ref) for ref in references]\n",
    "        candidate = self.preprocess(candidate)\n",
    "\n",
    "        return sentence_bleu(\n",
    "            references,\n",
    "            candidate,\n",
    "            smoothing_function=self._smoothing_function,\n",
    "            weights=self._weights,\n",
    "        )"
   ]
  },
  {
   "cell_type": "markdown",
   "metadata": {},
   "source": [
    "## Test"
   ]
  },
  {
   "cell_type": "markdown",
   "metadata": {
    "vscode": {
     "languageId": "plaintext"
    }
   },
   "source": [
    "### Load Dataset\n",
    "\n",
    "Load dataset from local file."
   ]
  },
  {
   "cell_type": "code",
   "execution_count": 9,
   "metadata": {},
   "outputs": [
    {
     "name": "stdout",
     "output_type": "stream",
     "text": [
      "DatasetDict({\n",
      "    train: Dataset({\n",
      "        features: ['target', 'reference'],\n",
      "        num_rows: 1\n",
      "    })\n",
      "})\n"
     ]
    }
   ],
   "source": [
    "from datasets import load_dataset\n",
    "import pandas as pd\n",
    "\n",
    "data_file = \"./test_example.csv\" # Path to the data file, replace with the correct path\n",
    "ds = load_dataset('csv', data_files=data_file)\n",
    "print(ds)\n",
    "\n",
    "# Define the function that will evaluate the translations\n",
    "def evalutate_translations(translator: Translator, evaluator: Evaluator, source_lang:str, target_lang:str, verbose: bool = False):\n",
    "    source_column = \"target\" # Column name of the source text, replace with the correct column name\n",
    "    reference_column = \"reference\" # Column name of the reference text, replace with the correct column name\n",
    "\n",
    "    df = pd.DataFrame(columns=[\"source_text\", \"reference\", \"translated_text\", \"score\"])\n",
    "    \n",
    "    for i in range(len(ds[\"train\"])):\n",
    "\n",
    "        source_text = ds[\"train\"][i][source_column].strip()\n",
    "        references = [ds[\"train\"][i][reference_column].strip()]\n",
    "        \n",
    "        translated_text = translator.translate(source_text, source_lang, target_lang, verbose=verbose)\n",
    "        translated_text = translated_text\n",
    "        score = evaluator.score(references, translated_text)\n",
    "\n",
    "        if verbose:\n",
    "            print(f\"Source Text: {source_text}\")\n",
    "            print(f\"References: {references}\")\n",
    "            print(f\"Translated Text: {translated_text}\")\n",
    "            print(f\"Score: {score}\")\n",
    "\n",
    "        df.loc[i] = [source_text, references[0], translated_text, score]\n",
    "\n",
    "    return df"
   ]
  },
  {
   "cell_type": "markdown",
   "metadata": {},
   "source": [
    "### Execute Testing"
   ]
  },
  {
   "cell_type": "code",
   "execution_count": null,
   "metadata": {},
   "outputs": [
    {
     "data": {
      "text/html": [
       "<div>\n",
       "<style scoped>\n",
       "    .dataframe tbody tr th:only-of-type {\n",
       "        vertical-align: middle;\n",
       "    }\n",
       "\n",
       "    .dataframe tbody tr th {\n",
       "        vertical-align: top;\n",
       "    }\n",
       "\n",
       "    .dataframe thead th {\n",
       "        text-align: right;\n",
       "    }\n",
       "</style>\n",
       "<table border=\"1\" class=\"dataframe\">\n",
       "  <thead>\n",
       "    <tr style=\"text-align: right;\">\n",
       "      <th></th>\n",
       "      <th>source_text</th>\n",
       "      <th>reference</th>\n",
       "      <th>translated_text</th>\n",
       "      <th>score</th>\n",
       "    </tr>\n",
       "  </thead>\n",
       "  <tbody>\n",
       "    <tr>\n",
       "      <th>0</th>\n",
       "      <td>This is a test example.</td>\n",
       "      <td>這是一個測試例子。</td>\n",
       "      <td>這是一個測試範例。</td>\n",
       "      <td>0.631197</td>\n",
       "    </tr>\n",
       "  </tbody>\n",
       "</table>\n",
       "</div>"
      ],
      "text/plain": [
       "               source_text  reference translated_text     score\n",
       "0  This is a test example.  這是一個測試例子。       這是一個測試範例。  0.631197"
      ]
     },
     "execution_count": 10,
     "metadata": {},
     "output_type": "execute_result"
    }
   ],
   "source": [
    "import os\n",
    "\n",
    "azure_translator = AzureOpenAITranslator(\n",
    "    endpoint=os.environ.get(\"AZURE_OPENAI_ENDPOINT\", \"\"),\n",
    "    subscription_key=os.environ.get(\"AZURE_OPENAI_KEY\", \"\"),\n",
    "    deployment=\"gpt-4o\", # change your deployment here, and make sure it is available in your Azure OpenAI account\n",
    "    system_prompt=\"You are a translation expert. Please translate the user-provided <source_lang> content into fluent <target_lang>.  Before translating, please fully understand the user’s content and ensure the translation is accurate and error-free.\",\n",
    ")\n",
    "\n",
    "evaluator = BLEUSentenceEvaluator()\n",
    "\n",
    "result = evalutate_translations(azure_translator, evaluator, source_lang=\"english\", target_lang=\"traditional chinese\", verbose=False)\n",
    "\n",
    "# save the result to a csv file\n",
    "result.to_csv(\"test_result.csv\", index=False, encoding=\"utf-8\")\n",
    "\n",
    "result"
   ]
  },
  {
   "cell_type": "code",
   "execution_count": null,
   "metadata": {},
   "outputs": [],
   "source": []
  }
 ],
 "metadata": {
  "kernelspec": {
   "display_name": ".venv",
   "language": "python",
   "name": "python3"
  },
  "language_info": {
   "codemirror_mode": {
    "name": "ipython",
    "version": 3
   },
   "file_extension": ".py",
   "mimetype": "text/x-python",
   "name": "python",
   "nbconvert_exporter": "python",
   "pygments_lexer": "ipython3",
   "version": "3.10.14"
  }
 },
 "nbformat": 4,
 "nbformat_minor": 2
}
